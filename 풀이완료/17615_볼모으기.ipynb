{
 "cells": [
  {
   "cell_type": "code",
   "execution_count": 29,
   "metadata": {},
   "outputs": [],
   "source": [
    "num=int(input(\"\"))\n",
    "color=input(\"\")"
   ]
  },
  {
   "cell_type": "code",
   "execution_count": 30,
   "metadata": {},
   "outputs": [
    {
     "output_type": "stream",
     "name": "stdout",
     "text": "2 6\n"
    }
   ],
   "source": [
    "Rcnt=0\n",
    "Bcnt=0\n",
    "for x in color:\n",
    "    if x=='R':\n",
    "        Rcnt+=1\n",
    "    else:\n",
    "        Bcnt+=1\n",
    "print(Rcnt,Bcnt)\n",
    "\n"
   ]
  },
  {
   "cell_type": "code",
   "execution_count": 31,
   "metadata": {},
   "outputs": [
    {
     "output_type": "stream",
     "name": "stdout",
     "text": "1\n"
    }
   ],
   "source": [
    "import math\n",
    "minN=math.inf\n",
    "cnt=0\n",
    "idx=0\n",
    "while(color[idx]=='R'):\n",
    "    cnt+=1\n",
    "    idx+=1\n",
    "minN=min(minN,Rcnt-cnt)\n",
    "#print(minN)\n",
    "idx=num-1\n",
    "cnt=0\n",
    "while(color[idx]=='R'):\n",
    "    cnt+=1\n",
    "    idx-=1\n",
    "minN=min(minN,Rcnt-cnt)\n",
    "#print(minN)\n",
    "idx=0\n",
    "cnt=0\n",
    "while(color[idx]=='B'):\n",
    "    cnt+=1\n",
    "    idx+=1\n",
    "minN=min(minN,Bcnt-cnt)\n",
    "#print(minN)\n",
    "idx=num-1\n",
    "cnt=0\n",
    "while(color[idx]=='B'):\n",
    "    cnt+=1\n",
    "    idx-=1\n",
    "minN=min(minN,Bcnt-cnt)\n",
    "print(minN)"
   ]
  },
  {
   "cell_type": "code",
   "execution_count": null,
   "metadata": {},
   "outputs": [],
   "source": []
  }
 ],
 "metadata": {
  "language_info": {
   "codemirror_mode": {
    "name": "ipython",
    "version": 3
   },
   "file_extension": ".py",
   "mimetype": "text/x-python",
   "name": "python",
   "nbconvert_exporter": "python",
   "pygments_lexer": "ipython3",
   "version": "3.7.4-final"
  },
  "orig_nbformat": 2,
  "kernelspec": {
   "name": "python3",
   "display_name": "Python 3"
  }
 },
 "nbformat": 4,
 "nbformat_minor": 2
}