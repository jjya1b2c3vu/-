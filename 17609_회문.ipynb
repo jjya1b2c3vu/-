{
 "cells": [
  {
   "cell_type": "code",
   "execution_count": 69,
   "metadata": {
    "tags": []
   },
   "outputs": [
    {
     "output_type": "stream",
     "name": "stdout",
     "text": "0\n1\n1\n2\n2\n0\n1\n"
    }
   ],
   "source": [
    "def pal(s):\n",
    "    return s[::]==s[::-1]\n",
    "def simpal(s):\n",
    "    if pal(s[1:]):\n",
    "        return True\n",
    "    if pal(s[:-1]):\n",
    "        return True\n",
    "    return False\n",
    "\n",
    "def main(s):\n",
    "    lens=len(s)\n",
    "    for i in range(lens//2):\n",
    "        if s[i] !=s[lens-1-i]:\n",
    "            if simpal(s[i:lens-i]):\n",
    "               return 1 \n",
    "            return 2\n",
    "    return 0\n",
    "import sys\n",
    "N = int(input())\n",
    "for _ in range(N):\n",
    "    s=list(input())\n",
    "    print(main(s))\n"
   ]
  },
  {
   "cell_type": "code",
   "execution_count": null,
   "metadata": {},
   "outputs": [],
   "source": []
  }
 ],
 "metadata": {
  "language_info": {
   "codemirror_mode": {
    "name": "ipython",
    "version": 3
   },
   "file_extension": ".py",
   "mimetype": "text/x-python",
   "name": "python",
   "nbconvert_exporter": "python",
   "pygments_lexer": "ipython3",
   "version": 3
  },
  "orig_nbformat": 2,
  "kernelspec": {
   "name": "python_defaultSpec_1594192547743",
   "display_name": "Python 3.7.4 64-bit ('base': conda)"
  }
 },
 "nbformat": 4,
 "nbformat_minor": 2
}